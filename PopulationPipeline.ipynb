{
 "cells": [
  {
   "cell_type": "markdown",
   "metadata": {},
   "source": [
    "# Population Estimation Pipeline"
   ]
  },
  {
   "cell_type": "markdown",
   "metadata": {},
   "source": [
    "## Setup"
   ]
  },
  {
   "cell_type": "markdown",
   "metadata": {},
   "source": [
    "### General imports"
   ]
  },
  {
   "cell_type": "code",
   "execution_count": 1,
   "metadata": {},
   "outputs": [],
   "source": [
    "%load_ext autoreload\n",
    "%autoreload 2"
   ]
  },
  {
   "cell_type": "code",
   "execution_count": 2,
   "metadata": {},
   "outputs": [],
   "source": [
    "import numpy as np\n",
    "import pandas as pd\n",
    "import matplotlib.pyplot as plt\n",
    "import math\n",
    "import json\n",
    "from osgeo import gdal, osr, ogr\n",
    "from tifffile import imread\n",
    "from tqdm import tqdm"
   ]
  },
  {
   "cell_type": "code",
   "execution_count": 3,
   "metadata": {},
   "outputs": [],
   "source": [
    "from functions.visualization import to_img, display_pair, get_tiles, get_tiles_df"
   ]
  },
  {
   "cell_type": "markdown",
   "metadata": {},
   "source": [
    "### Parameters"
   ]
  },
  {
   "cell_type": "code",
   "execution_count": 4,
   "metadata": {},
   "outputs": [],
   "source": [
    "SEED = 42\n",
    "np.random.seed(SEED)\n",
    "prng = np.random.RandomState(SEED)"
   ]
  },
  {
   "cell_type": "code",
   "execution_count": 5,
   "metadata": {},
   "outputs": [],
   "source": [
    "tiles_path = './survey_tiles/'"
   ]
  },
  {
   "cell_type": "markdown",
   "metadata": {},
   "source": [
    "#### Survey rasterization"
   ]
  },
  {
   "cell_type": "code",
   "execution_count": 6,
   "metadata": {},
   "outputs": [],
   "source": [
    "survey_data_path = './Mozambique Dataset 1/Mozambique samples/'\n",
    "boa_srs_path = './Mozambique Dataset 1/Mozambique empty grids/BOA_adm_gridcentroids-100m.shp'\n",
    "mgd_srs_path = './Mozambique Dataset 1/Mozambique empty grids/MGD_adm_gridcentroids-100m.shp'\n",
    "boa_survey_path = './Survey/boa_survey.tif'\n",
    "mgd_survey_path = './Survey/mgd_survey.tif'"
   ]
  },
  {
   "cell_type": "markdown",
   "metadata": {},
   "source": [
    "#### Building footprint estimation"
   ]
  },
  {
   "cell_type": "code",
   "execution_count": 7,
   "metadata": {},
   "outputs": [],
   "source": [
    "model_path = './models/spacesur/model.json'\n",
    "weights_path = './models/spacesur/model.h5'\n",
    "boa_footprints_path = './buildings/spaceSUR/pred/boa/'\n",
    "mgd_footprints_path = './buildings/spaceSUR/pred/boa/'"
   ]
  },
  {
   "cell_type": "markdown",
   "metadata": {},
   "source": [
    "#### Outliers"
   ]
  },
  {
   "cell_type": "code",
   "execution_count": 8,
   "metadata": {},
   "outputs": [],
   "source": [
    "boa_outliers_path = './outliers/boa_outliers.csv'\n",
    "mgd_outliers_path = './outliers/mgd_outliers.csv'"
   ]
  },
  {
   "cell_type": "markdown",
   "metadata": {},
   "source": [
    "#### Population estimation"
   ]
  },
  {
   "cell_type": "code",
   "execution_count": 9,
   "metadata": {},
   "outputs": [],
   "source": [
    "features = np.array(['landsat_b0', 'landsat_b1', 'landsat_b2', 'landsat_b3',\n",
    "       'landsat_b4', 'landsat_b5', 'landsat_b6', 'landsat_b7',\n",
    "       'landsat_b8', 'landsat_b9', 'ndvi', 'ndwi', 'ntl', 'hrsl',\n",
    "       'road_dist_m', 'building_area_spacesur', 'no_class',\n",
    "       'closed_forest', 'open_forest', 'shrubs', 'hb_veg', 'hb_waste',\n",
    "       'moss', 'bare', 'cropland', 'urban', 'snow', 'water', 'sea',\n",
    "       'landsat_b0_context', 'landsat_b1_context', 'landsat_b2_context',\n",
    "       'landsat_b3_context', 'landsat_b4_context', 'landsat_b5_context',\n",
    "       'landsat_b6_context', 'landsat_b7_context', 'landsat_b8_context',\n",
    "       'landsat_b9_context', 'ndvi_context', 'ndwi_context',\n",
    "       'ntl_context', 'hrsl_context', 'road_dist_m_context',\n",
    "       'building_area_spacesur_context', 'no_class_context',\n",
    "       'closed_forest_context', 'open_forest_context', 'shrubs_context',\n",
    "       'hb_veg_context', 'hb_waste_context', 'moss_context',\n",
    "       'bare_context', 'cropland_context', 'urban_context',\n",
    "       'snow_context', 'water_context', 'sea_context'])"
   ]
  },
  {
   "cell_type": "code",
   "execution_count": 10,
   "metadata": {},
   "outputs": [],
   "source": [
    "target = np.array(['pop'])"
   ]
  },
  {
   "cell_type": "code",
   "execution_count": 11,
   "metadata": {},
   "outputs": [],
   "source": [
    "log = True"
   ]
  },
  {
   "cell_type": "markdown",
   "metadata": {},
   "source": [
    "## Rasterize survey"
   ]
  },
  {
   "cell_type": "code",
   "execution_count": 13,
   "metadata": {},
   "outputs": [],
   "source": [
    "from functions.survey import df_to_raster, display_surveys, get_extent"
   ]
  },
  {
   "cell_type": "markdown",
   "metadata": {},
   "source": [
    "### Load data"
   ]
  },
  {
   "cell_type": "code",
   "execution_count": 14,
   "metadata": {},
   "outputs": [],
   "source": [
    "df_raw_boa = pd.read_stata(survey_data_path + 'sample_boa.dta')\n",
    "df_raw_mgd = pd.read_stata(survey_data_path + 'sample_mgd.dta')"
   ]
  },
  {
   "cell_type": "markdown",
   "metadata": {},
   "source": [
    "### Rasterize"
   ]
  },
  {
   "cell_type": "code",
   "execution_count": 15,
   "metadata": {},
   "outputs": [],
   "source": [
    "# Compute and export geotiff population rasters from survey data\n",
    "df_to_raster(df_raw_boa,boa_survey_path,boa_srs_path,'members_n')\n",
    "df_to_raster(df_raw_mgd,mgd_survey_path,mgd_srs_path,'members_n')"
   ]
  },
  {
   "cell_type": "code",
   "execution_count": 16,
   "metadata": {},
   "outputs": [],
   "source": [
    "# Compute and export geotiff building count rasters from survey data\n",
    "df_to_raster(df_raw_boa,'./Survey/boa_count.tif',boa_srs_path,'count_buildings')\n",
    "df_to_raster(df_raw_mgd,'./Survey/mgd_count.tif',mgd_srs_path,'count_buildings')"
   ]
  },
  {
   "cell_type": "code",
   "execution_count": 17,
   "metadata": {},
   "outputs": [],
   "source": [
    "pop_boa = imread(boa_survey_path)\n",
    "pop_mgd = imread(mgd_survey_path)"
   ]
  },
  {
   "cell_type": "markdown",
   "metadata": {},
   "source": [
    "## Estimate building footprints"
   ]
  },
  {
   "cell_type": "code",
   "execution_count": 18,
   "metadata": {},
   "outputs": [],
   "source": [
    "from functions.footprints import load_model, estimate_footprints"
   ]
  },
  {
   "cell_type": "code",
   "execution_count": 19,
   "metadata": {},
   "outputs": [],
   "source": [
    "model = load_model(model_path,weights_path)"
   ]
  },
  {
   "cell_type": "code",
   "execution_count": 21,
   "metadata": {},
   "outputs": [
    {
     "name": "stdout",
     "output_type": "stream",
     "text": [
      "Learning channel-wise distribution for imagery in ./maxar_boa/\n"
     ]
    },
    {
     "name": "stderr",
     "output_type": "stream",
     "text": [
      "100%|██████████████████████████████████████████████████████████████████████████████| 1000/1000 [00:10<00:00, 97.99it/s]"
     ]
    },
    {
     "name": "stdout",
     "output_type": "stream",
     "text": [
      "Predicting building footprints for survey tiles in ./maxar_boa/\n"
     ]
    },
    {
     "name": "stderr",
     "output_type": "stream",
     "text": [
      "\n",
      "100%|████████████████████████████████████████████████████████████████████████████████| 289/289 [00:20<00:00, 14.01it/s]\n"
     ]
    },
    {
     "name": "stdout",
     "output_type": "stream",
     "text": [
      "Learning channel-wise distribution for imagery in ./maxar_mgd/\n"
     ]
    },
    {
     "name": "stderr",
     "output_type": "stream",
     "text": [
      "100%|██████████████████████████████████████████████████████████████████████████████| 1000/1000 [00:10<00:00, 92.43it/s]"
     ]
    },
    {
     "name": "stdout",
     "output_type": "stream",
     "text": [
      "Predicting building footprints for survey tiles in ./maxar_mgd/\n"
     ]
    },
    {
     "name": "stderr",
     "output_type": "stream",
     "text": [
      "\n",
      "100%|████████████████████████████████████████████████████████████████████████████████| 185/185 [00:14<00:00, 12.71it/s]\n"
     ]
    }
   ],
   "source": [
    "estimate_footprints(pop_boa,'./maxar_boa/',boa_footprints_path,model,threshold=0.9)\n",
    "estimate_footprints(pop_mgd,'./maxar_mgd/',mgd_footprints_path,model,threshold=0.9)"
   ]
  },
  {
   "cell_type": "markdown",
   "metadata": {},
   "source": [
    "## Preprocess feature rasters"
   ]
  },
  {
   "cell_type": "code",
   "execution_count": 22,
   "metadata": {},
   "outputs": [],
   "source": [
    "from functions.data import *\n",
    "from functions.preprocessing import *"
   ]
  },
  {
   "cell_type": "markdown",
   "metadata": {},
   "source": [
    "### Load data and construct dataset"
   ]
  },
  {
   "cell_type": "code",
   "execution_count": 23,
   "metadata": {},
   "outputs": [],
   "source": [
    "rasters_boa = load_rasters('boa') \n",
    "rasters_mgd = load_rasters('mgd')"
   ]
  },
  {
   "cell_type": "code",
   "execution_count": 24,
   "metadata": {},
   "outputs": [],
   "source": [
    "feature_names = get_feature_names()"
   ]
  },
  {
   "cell_type": "code",
   "execution_count": 25,
   "metadata": {},
   "outputs": [],
   "source": [
    "df_boa = construct_dataset(feature_names,rasters_boa,pop_boa,context=True) # 50, 275\n",
    "df_mgd = construct_dataset(feature_names,rasters_mgd,pop_mgd,context=True) # 230, 490"
   ]
  },
  {
   "cell_type": "markdown",
   "metadata": {},
   "source": [
    "### Split data into validation folds and save to file"
   ]
  },
  {
   "cell_type": "code",
   "execution_count": 26,
   "metadata": {},
   "outputs": [],
   "source": [
    "df_boa = label_folds(get_val_split(df_boa))\n",
    "df_mgd = label_folds(get_val_split(df_mgd))"
   ]
  },
  {
   "cell_type": "code",
   "execution_count": 27,
   "metadata": {},
   "outputs": [],
   "source": [
    "# Write to disk\n",
    "df_boa.to_csv('./csv/boa.csv',index=False)\n",
    "df_mgd.to_csv('./csv/mgd.csv',index=False)"
   ]
  },
  {
   "cell_type": "markdown",
   "metadata": {},
   "source": [
    "### Remove outliers"
   ]
  },
  {
   "cell_type": "code",
   "execution_count": 28,
   "metadata": {},
   "outputs": [],
   "source": [
    "from functions.data import remove_outliers"
   ]
  },
  {
   "cell_type": "code",
   "execution_count": 29,
   "metadata": {},
   "outputs": [
    {
     "data": {
      "text/plain": [
       "474"
      ]
     },
     "execution_count": 29,
     "metadata": {},
     "output_type": "execute_result"
    }
   ],
   "source": [
    "len(df_boa) + len(df_mgd)"
   ]
  },
  {
   "cell_type": "code",
   "execution_count": 30,
   "metadata": {},
   "outputs": [],
   "source": [
    "df_boa = remove_outliers(df_boa,boa_outliers_path,strong_only=False)\n",
    "df_mgd = remove_outliers(df_mgd,mgd_outliers_path,strong_only=False)"
   ]
  },
  {
   "cell_type": "code",
   "execution_count": 31,
   "metadata": {},
   "outputs": [
    {
     "data": {
      "text/html": [
       "<div>\n",
       "<style scoped>\n",
       "    .dataframe tbody tr th:only-of-type {\n",
       "        vertical-align: middle;\n",
       "    }\n",
       "\n",
       "    .dataframe tbody tr th {\n",
       "        vertical-align: top;\n",
       "    }\n",
       "\n",
       "    .dataframe thead th {\n",
       "        text-align: right;\n",
       "    }\n",
       "</style>\n",
       "<table border=\"1\" class=\"dataframe\">\n",
       "  <thead>\n",
       "    <tr style=\"text-align: right;\">\n",
       "      <th></th>\n",
       "      <th>x</th>\n",
       "      <th>y</th>\n",
       "      <th>landsat_b0</th>\n",
       "      <th>landsat_b1</th>\n",
       "      <th>landsat_b2</th>\n",
       "      <th>landsat_b3</th>\n",
       "      <th>landsat_b4</th>\n",
       "      <th>landsat_b5</th>\n",
       "      <th>landsat_b6</th>\n",
       "      <th>landsat_b7</th>\n",
       "      <th>...</th>\n",
       "      <th>bare_context</th>\n",
       "      <th>cropland_context</th>\n",
       "      <th>urban_context</th>\n",
       "      <th>snow_context</th>\n",
       "      <th>water_context</th>\n",
       "      <th>sea_context</th>\n",
       "      <th>pop</th>\n",
       "      <th>fold</th>\n",
       "      <th>roi</th>\n",
       "      <th>roi_num</th>\n",
       "    </tr>\n",
       "  </thead>\n",
       "  <tbody>\n",
       "    <tr>\n",
       "      <th>0</th>\n",
       "      <td>118</td>\n",
       "      <td>11</td>\n",
       "      <td>10895.223633</td>\n",
       "      <td>10156.565430</td>\n",
       "      <td>9782.320312</td>\n",
       "      <td>10134.708008</td>\n",
       "      <td>15702.265625</td>\n",
       "      <td>17839.257812</td>\n",
       "      <td>15277.496094</td>\n",
       "      <td>9858.237305</td>\n",
       "      <td>...</td>\n",
       "      <td>0.0</td>\n",
       "      <td>1.000000</td>\n",
       "      <td>0.000000</td>\n",
       "      <td>0.0</td>\n",
       "      <td>0.0</td>\n",
       "      <td>0.0</td>\n",
       "      <td>3.0</td>\n",
       "      <td>0</td>\n",
       "      <td>boa</td>\n",
       "      <td>0</td>\n",
       "    </tr>\n",
       "    <tr>\n",
       "      <th>1</th>\n",
       "      <td>104</td>\n",
       "      <td>148</td>\n",
       "      <td>11151.789062</td>\n",
       "      <td>10461.655273</td>\n",
       "      <td>10356.648438</td>\n",
       "      <td>11213.542969</td>\n",
       "      <td>17231.845703</td>\n",
       "      <td>18977.359375</td>\n",
       "      <td>16206.482422</td>\n",
       "      <td>10622.944336</td>\n",
       "      <td>...</td>\n",
       "      <td>0.0</td>\n",
       "      <td>0.555556</td>\n",
       "      <td>0.000000</td>\n",
       "      <td>0.0</td>\n",
       "      <td>0.0</td>\n",
       "      <td>0.0</td>\n",
       "      <td>7.0</td>\n",
       "      <td>0</td>\n",
       "      <td>boa</td>\n",
       "      <td>0</td>\n",
       "    </tr>\n",
       "    <tr>\n",
       "      <th>2</th>\n",
       "      <td>291</td>\n",
       "      <td>446</td>\n",
       "      <td>9176.956055</td>\n",
       "      <td>8613.373047</td>\n",
       "      <td>8232.438477</td>\n",
       "      <td>8715.929688</td>\n",
       "      <td>10781.729492</td>\n",
       "      <td>11988.632812</td>\n",
       "      <td>10756.526367</td>\n",
       "      <td>8419.846680</td>\n",
       "      <td>...</td>\n",
       "      <td>0.0</td>\n",
       "      <td>0.777778</td>\n",
       "      <td>0.000000</td>\n",
       "      <td>0.0</td>\n",
       "      <td>0.0</td>\n",
       "      <td>0.0</td>\n",
       "      <td>7.0</td>\n",
       "      <td>0</td>\n",
       "      <td>mgd</td>\n",
       "      <td>1</td>\n",
       "    </tr>\n",
       "    <tr>\n",
       "      <th>3</th>\n",
       "      <td>130</td>\n",
       "      <td>40</td>\n",
       "      <td>8944.000000</td>\n",
       "      <td>8332.995117</td>\n",
       "      <td>7863.830078</td>\n",
       "      <td>8275.438477</td>\n",
       "      <td>10533.853516</td>\n",
       "      <td>12410.594727</td>\n",
       "      <td>10704.127930</td>\n",
       "      <td>7950.947754</td>\n",
       "      <td>...</td>\n",
       "      <td>0.0</td>\n",
       "      <td>0.111111</td>\n",
       "      <td>0.222222</td>\n",
       "      <td>0.0</td>\n",
       "      <td>0.0</td>\n",
       "      <td>0.0</td>\n",
       "      <td>11.0</td>\n",
       "      <td>0</td>\n",
       "      <td>mgd</td>\n",
       "      <td>1</td>\n",
       "    </tr>\n",
       "    <tr>\n",
       "      <th>4</th>\n",
       "      <td>130</td>\n",
       "      <td>42</td>\n",
       "      <td>8970.413086</td>\n",
       "      <td>8370.429688</td>\n",
       "      <td>7857.674805</td>\n",
       "      <td>8142.222168</td>\n",
       "      <td>10689.382812</td>\n",
       "      <td>12454.527344</td>\n",
       "      <td>10273.217773</td>\n",
       "      <td>7892.323730</td>\n",
       "      <td>...</td>\n",
       "      <td>0.0</td>\n",
       "      <td>0.777778</td>\n",
       "      <td>0.000000</td>\n",
       "      <td>0.0</td>\n",
       "      <td>0.0</td>\n",
       "      <td>0.0</td>\n",
       "      <td>3.0</td>\n",
       "      <td>0</td>\n",
       "      <td>mgd</td>\n",
       "      <td>1</td>\n",
       "    </tr>\n",
       "    <tr>\n",
       "      <th>...</th>\n",
       "      <td>...</td>\n",
       "      <td>...</td>\n",
       "      <td>...</td>\n",
       "      <td>...</td>\n",
       "      <td>...</td>\n",
       "      <td>...</td>\n",
       "      <td>...</td>\n",
       "      <td>...</td>\n",
       "      <td>...</td>\n",
       "      <td>...</td>\n",
       "      <td>...</td>\n",
       "      <td>...</td>\n",
       "      <td>...</td>\n",
       "      <td>...</td>\n",
       "      <td>...</td>\n",
       "      <td>...</td>\n",
       "      <td>...</td>\n",
       "      <td>...</td>\n",
       "      <td>...</td>\n",
       "      <td>...</td>\n",
       "      <td>...</td>\n",
       "    </tr>\n",
       "    <tr>\n",
       "      <th>283</th>\n",
       "      <td>148</td>\n",
       "      <td>218</td>\n",
       "      <td>11462.326172</td>\n",
       "      <td>10779.148438</td>\n",
       "      <td>10503.547852</td>\n",
       "      <td>10608.528320</td>\n",
       "      <td>16982.816406</td>\n",
       "      <td>15827.172852</td>\n",
       "      <td>12925.557617</td>\n",
       "      <td>10489.564453</td>\n",
       "      <td>...</td>\n",
       "      <td>0.0</td>\n",
       "      <td>0.000000</td>\n",
       "      <td>1.000000</td>\n",
       "      <td>0.0</td>\n",
       "      <td>0.0</td>\n",
       "      <td>0.0</td>\n",
       "      <td>17.0</td>\n",
       "      <td>3</td>\n",
       "      <td>boa</td>\n",
       "      <td>0</td>\n",
       "    </tr>\n",
       "    <tr>\n",
       "      <th>284</th>\n",
       "      <td>147</td>\n",
       "      <td>218</td>\n",
       "      <td>11307.667969</td>\n",
       "      <td>10578.583008</td>\n",
       "      <td>10259.977539</td>\n",
       "      <td>10096.094727</td>\n",
       "      <td>17196.335938</td>\n",
       "      <td>15113.315430</td>\n",
       "      <td>11946.597656</td>\n",
       "      <td>10156.680664</td>\n",
       "      <td>...</td>\n",
       "      <td>0.0</td>\n",
       "      <td>0.000000</td>\n",
       "      <td>1.000000</td>\n",
       "      <td>0.0</td>\n",
       "      <td>0.0</td>\n",
       "      <td>0.0</td>\n",
       "      <td>12.0</td>\n",
       "      <td>3</td>\n",
       "      <td>boa</td>\n",
       "      <td>0</td>\n",
       "    </tr>\n",
       "    <tr>\n",
       "      <th>285</th>\n",
       "      <td>158</td>\n",
       "      <td>215</td>\n",
       "      <td>11215.201172</td>\n",
       "      <td>10471.555664</td>\n",
       "      <td>10224.971680</td>\n",
       "      <td>10226.047852</td>\n",
       "      <td>17099.632812</td>\n",
       "      <td>15772.015625</td>\n",
       "      <td>12450.642578</td>\n",
       "      <td>10213.514648</td>\n",
       "      <td>...</td>\n",
       "      <td>0.0</td>\n",
       "      <td>0.000000</td>\n",
       "      <td>0.555556</td>\n",
       "      <td>0.0</td>\n",
       "      <td>0.0</td>\n",
       "      <td>0.0</td>\n",
       "      <td>21.0</td>\n",
       "      <td>3</td>\n",
       "      <td>boa</td>\n",
       "      <td>0</td>\n",
       "    </tr>\n",
       "    <tr>\n",
       "      <th>286</th>\n",
       "      <td>122</td>\n",
       "      <td>246</td>\n",
       "      <td>11561.772461</td>\n",
       "      <td>10944.502930</td>\n",
       "      <td>10959.352539</td>\n",
       "      <td>11663.037109</td>\n",
       "      <td>16820.664062</td>\n",
       "      <td>17272.595703</td>\n",
       "      <td>14589.453125</td>\n",
       "      <td>11144.351562</td>\n",
       "      <td>...</td>\n",
       "      <td>0.0</td>\n",
       "      <td>0.000000</td>\n",
       "      <td>0.888889</td>\n",
       "      <td>0.0</td>\n",
       "      <td>0.0</td>\n",
       "      <td>0.0</td>\n",
       "      <td>22.0</td>\n",
       "      <td>3</td>\n",
       "      <td>boa</td>\n",
       "      <td>0</td>\n",
       "    </tr>\n",
       "    <tr>\n",
       "      <th>287</th>\n",
       "      <td>345</td>\n",
       "      <td>493</td>\n",
       "      <td>9039.271484</td>\n",
       "      <td>8449.856445</td>\n",
       "      <td>7964.171875</td>\n",
       "      <td>8210.648438</td>\n",
       "      <td>10850.165039</td>\n",
       "      <td>12453.361328</td>\n",
       "      <td>10428.805664</td>\n",
       "      <td>8013.749512</td>\n",
       "      <td>...</td>\n",
       "      <td>0.0</td>\n",
       "      <td>0.555556</td>\n",
       "      <td>0.444444</td>\n",
       "      <td>0.0</td>\n",
       "      <td>0.0</td>\n",
       "      <td>0.0</td>\n",
       "      <td>14.0</td>\n",
       "      <td>3</td>\n",
       "      <td>mgd</td>\n",
       "      <td>1</td>\n",
       "    </tr>\n",
       "  </tbody>\n",
       "</table>\n",
       "<p>288 rows × 68 columns</p>\n",
       "</div>"
      ],
      "text/plain": [
       "       x    y    landsat_b0    landsat_b1    landsat_b2    landsat_b3  \\\n",
       "0    118   11  10895.223633  10156.565430   9782.320312  10134.708008   \n",
       "1    104  148  11151.789062  10461.655273  10356.648438  11213.542969   \n",
       "2    291  446   9176.956055   8613.373047   8232.438477   8715.929688   \n",
       "3    130   40   8944.000000   8332.995117   7863.830078   8275.438477   \n",
       "4    130   42   8970.413086   8370.429688   7857.674805   8142.222168   \n",
       "..   ...  ...           ...           ...           ...           ...   \n",
       "283  148  218  11462.326172  10779.148438  10503.547852  10608.528320   \n",
       "284  147  218  11307.667969  10578.583008  10259.977539  10096.094727   \n",
       "285  158  215  11215.201172  10471.555664  10224.971680  10226.047852   \n",
       "286  122  246  11561.772461  10944.502930  10959.352539  11663.037109   \n",
       "287  345  493   9039.271484   8449.856445   7964.171875   8210.648438   \n",
       "\n",
       "       landsat_b4    landsat_b5    landsat_b6    landsat_b7  ...  \\\n",
       "0    15702.265625  17839.257812  15277.496094   9858.237305  ...   \n",
       "1    17231.845703  18977.359375  16206.482422  10622.944336  ...   \n",
       "2    10781.729492  11988.632812  10756.526367   8419.846680  ...   \n",
       "3    10533.853516  12410.594727  10704.127930   7950.947754  ...   \n",
       "4    10689.382812  12454.527344  10273.217773   7892.323730  ...   \n",
       "..            ...           ...           ...           ...  ...   \n",
       "283  16982.816406  15827.172852  12925.557617  10489.564453  ...   \n",
       "284  17196.335938  15113.315430  11946.597656  10156.680664  ...   \n",
       "285  17099.632812  15772.015625  12450.642578  10213.514648  ...   \n",
       "286  16820.664062  17272.595703  14589.453125  11144.351562  ...   \n",
       "287  10850.165039  12453.361328  10428.805664   8013.749512  ...   \n",
       "\n",
       "     bare_context  cropland_context  urban_context  snow_context  \\\n",
       "0             0.0          1.000000       0.000000           0.0   \n",
       "1             0.0          0.555556       0.000000           0.0   \n",
       "2             0.0          0.777778       0.000000           0.0   \n",
       "3             0.0          0.111111       0.222222           0.0   \n",
       "4             0.0          0.777778       0.000000           0.0   \n",
       "..            ...               ...            ...           ...   \n",
       "283           0.0          0.000000       1.000000           0.0   \n",
       "284           0.0          0.000000       1.000000           0.0   \n",
       "285           0.0          0.000000       0.555556           0.0   \n",
       "286           0.0          0.000000       0.888889           0.0   \n",
       "287           0.0          0.555556       0.444444           0.0   \n",
       "\n",
       "     water_context  sea_context   pop  fold  roi  roi_num  \n",
       "0              0.0          0.0   3.0     0  boa        0  \n",
       "1              0.0          0.0   7.0     0  boa        0  \n",
       "2              0.0          0.0   7.0     0  mgd        1  \n",
       "3              0.0          0.0  11.0     0  mgd        1  \n",
       "4              0.0          0.0   3.0     0  mgd        1  \n",
       "..             ...          ...   ...   ...  ...      ...  \n",
       "283            0.0          0.0  17.0     3  boa        0  \n",
       "284            0.0          0.0  12.0     3  boa        0  \n",
       "285            0.0          0.0  21.0     3  boa        0  \n",
       "286            0.0          0.0  22.0     3  boa        0  \n",
       "287            0.0          0.0  14.0     3  mgd        1  \n",
       "\n",
       "[288 rows x 68 columns]"
      ]
     },
     "metadata": {},
     "output_type": "display_data"
    }
   ],
   "source": [
    "df_boa['roi'] = 'boa' # for visualization\n",
    "df_mgd['roi'] = 'mgd' # for visualization\n",
    "df_boa['roi_num'] = 0 # for model\n",
    "df_mgd['roi_num'] = 1 # for model\n",
    "df = df_boa.append(df_mgd,ignore_index=True).sort_values(by='fold', ascending=True).reset_index(drop=True) # sort by fold\n",
    "display(df)"
   ]
  },
  {
   "cell_type": "code",
   "execution_count": 32,
   "metadata": {},
   "outputs": [
    {
     "data": {
      "image/png": "[encoded data removed]",
      "text/plain": [
       "<Figure size 576x216 with 3 Axes>"
      ]
     },
     "metadata": {},
     "output_type": "display_data"
    }
   ],
   "source": [
    "f, axarr = plt.subplots(1,3,figsize=(8,3))\n",
    "img, buildings = get_tiles_df(df,200,tiles_path)\n",
    "buildings = to_img(buildings)\n",
    "display_pair(img,buildings,axarr)"
   ]
  },
  {
   "cell_type": "markdown",
   "metadata": {},
   "source": [
    "## Estimate Population"
   ]
  },
  {
   "cell_type": "markdown",
   "metadata": {},
   "source": [
    "### Imports"
   ]
  },
  {
   "cell_type": "code",
   "execution_count": 33,
   "metadata": {},
   "outputs": [],
   "source": [
    "from copy import deepcopy\n",
    "from sklearn.preprocessing import StandardScaler\n",
    "from sklearn.linear_model import PoissonRegressor\n",
    "from sklearn.ensemble import RandomForestRegressor \n",
    "from sklearn.metrics import r2_score, make_scorer\n",
    "from sklearn.model_selection import GridSearchCV\n",
    "from sklearn.model_selection import RandomizedSearchCV\n",
    "from yellowbrick.model_selection import feature_importances"
   ]
  },
  {
   "cell_type": "markdown",
   "metadata": {},
   "source": [
    "Our error metric is median absolute percent error ($MeAPE$), which is more resistant to outliers than the mean:\n",
    "\n",
    "$\\begin{align}\n",
    "MeAPE = median(X) \\text{ where } X = \\left\\{ \\left\\lvert \\frac{y_i - \\hat{y_i}}{y_i} \\right\\rvert \\text{ for } i = 1,2,3,...,n \\right\\}\n",
    "\\end{align}$"
   ]
  },
  {
   "cell_type": "code",
   "execution_count": 34,
   "metadata": {},
   "outputs": [],
   "source": [
    "from functions.prediction import cross_val\n",
    "from functions.visualization import prediction_error\n",
    "from functions.scoring import meape, accuracy"
   ]
  },
  {
   "cell_type": "code",
   "execution_count": 35,
   "metadata": {},
   "outputs": [],
   "source": [
    "plt.style.use('ggplot')"
   ]
  },
  {
   "cell_type": "code",
   "execution_count": 36,
   "metadata": {},
   "outputs": [],
   "source": [
    "y_true = df[target].to_numpy()"
   ]
  },
  {
   "cell_type": "markdown",
   "metadata": {},
   "source": [
    "### Fit Poisson regression model"
   ]
  },
  {
   "cell_type": "code",
   "execution_count": 37,
   "metadata": {},
   "outputs": [
    {
     "name": "stdout",
     "output_type": "stream",
     "text": [
      "Training on 220 samples, validating on 68, 76/24 split\n",
      "Training on 213 samples, validating on 75, 74/26 split\n",
      "Training on 214 samples, validating on 74, 74/26 split\n",
      "Training on 217 samples, validating on 71, 75/25 split\n"
     ]
    }
   ],
   "source": [
    "pr = PoissonRegressor(max_iter=200)\n",
    "reg_pr = GridSearchCV(pr,{'alpha':np.linspace(0.1,1,50)},scoring=make_scorer(meape,greater_is_better=False),cv=3,n_jobs=-1)\n",
    "y_pred_pr, models_pr = cross_val(reg_pr,df,features,target,log=log,return_models=True)"
   ]
  },
  {
   "cell_type": "code",
   "execution_count": 38,
   "metadata": {},
   "outputs": [
    {
     "data": {
      "text/plain": [
       "0.5208333333333334"
      ]
     },
     "execution_count": 38,
     "metadata": {},
     "output_type": "execute_result"
    }
   ],
   "source": [
    "bands = [(0,5),(5,15),(15,30),(30,50),(50,100)]\n",
    "#bands = [(0,10),(10,30),(30,100)]\n",
    "accuracy(y_true,y_pred_pr,bands)"
   ]
  },
  {
   "cell_type": "markdown",
   "metadata": {},
   "source": [
    "### Fit random forest regression model"
   ]
  },
  {
   "cell_type": "code",
   "execution_count": 39,
   "metadata": {},
   "outputs": [
    {
     "name": "stdout",
     "output_type": "stream",
     "text": [
      "Training on 220 samples, validating on 68, 76/24 split\n",
      "Training on 213 samples, validating on 75, 74/26 split\n",
      "Training on 214 samples, validating on 74, 74/26 split\n",
      "Training on 217 samples, validating on 71, 75/25 split\n"
     ]
    }
   ],
   "source": [
    "rf = RandomForestRegressor(n_jobs=-1,random_state=prng)\n",
    "param_grid = {'n_estimators': list(range(100,1200,200)), # list(range(200,1200,200)\n",
    "                'min_samples_split': [2, 5, 10],\n",
    "                'min_samples_leaf': [1, 2, 4]}\n",
    "reg_rf = GridSearchCV(rf,param_grid,scoring=make_scorer(meape,greater_is_better=False),cv=3,verbose=0,n_jobs=-1)\n",
    "y_pred_rf, models_rf = cross_val(reg_rf,df,features,target,log=log,return_models=True)"
   ]
  },
  {
   "cell_type": "code",
   "execution_count": 40,
   "metadata": {},
   "outputs": [
    {
     "data": {
      "text/plain": [
       "0.5555555555555556"
      ]
     },
     "execution_count": 40,
     "metadata": {},
     "output_type": "execute_result"
    }
   ],
   "source": [
    "bands = [(0,5),(5,15),(15,30),(30,50),(50,100)]\n",
    "#bands = [(0,10),(10,30),(30,100)]\n",
    "accuracy(y_true,y_pred_rf,bands)"
   ]
  },
  {
   "cell_type": "markdown",
   "metadata": {},
   "source": [
    "### Define dummy predictions"
   ]
  },
  {
   "cell_type": "code",
   "execution_count": 42,
   "metadata": {},
   "outputs": [],
   "source": [
    "y_pred_dummy = np.full(y_true.shape[0],7)"
   ]
  },
  {
   "cell_type": "markdown",
   "metadata": {},
   "source": [
    "## Evaluate Estimates"
   ]
  },
  {
   "cell_type": "code",
   "execution_count": 43,
   "metadata": {},
   "outputs": [
    {
     "data": {
      "text/plain": [
       "Text(0.5, 1.0, 'Dummy (all predictions 7)')"
      ]
     },
     "execution_count": 43,
     "metadata": {},
     "output_type": "execute_result"
    },
    {
     "data": {
      "image/png": "[encoded data removed]",
      "text/plain": [
       "<Figure size 1080x360 with 3 Axes>"
      ]
     },
     "metadata": {},
     "output_type": "display_data"
    }
   ],
   "source": [
    "f, axarr = plt.subplots(1,3,figsize=(15,5))\n",
    "prediction_error(y_true,y_pred_pr,axarr[0]) # plot\n",
    "axarr[0].set_title(\"Poisson\")\n",
    "\n",
    "prediction_error(y_true,y_pred_rf,axarr[1]) # plot\n",
    "axarr[1].set_title(\"Random Forest\")\n",
    "\n",
    "prediction_error(y_true,y_pred_dummy,axarr[2]) # plot\n",
    "axarr[2].set_title(\"Dummy (all predictions 7)\")"
   ]
  },
  {
   "cell_type": "code",
   "execution_count": 44,
   "metadata": {},
   "outputs": [
    {
     "data": {
      "text/plain": [
       "Text(0.5, 1.0, 'Dummy (all predictions 7)')"
      ]
     },
     "execution_count": 44,
     "metadata": {},
     "output_type": "execute_result"
    },
    {
     "data": {
      "image/png": "[encoded data removed]",
      "text/plain": [
       "<Figure size 1080x360 with 3 Axes>"
      ]
     },
     "metadata": {},
     "output_type": "display_data"
    }
   ],
   "source": [
    "df['pop_pred'] = y_pred_pr\n",
    "f, axarr = plt.subplots(1,3,figsize=(15,5))\n",
    "prediction_error(y_true,y_pred_pr,axarr[0],color=True,df=df) # plot\n",
    "axarr[0].set_title(\"Poisson\")\n",
    "\n",
    "df['pop_pred'] = y_pred_rf\n",
    "prediction_error(y_true,y_pred_rf,axarr[1],color=True,df=df) # plot\n",
    "axarr[1].set_title(\"Random Forest\")\n",
    "\n",
    "df['pop_pred'] = y_pred_dummy\n",
    "prediction_error(y_true,y_pred_dummy,axarr[2],color=True,df=df) # plot\n",
    "axarr[2].set_title(\"Dummy (all predictions 7)\")"
   ]
  },
  {
   "cell_type": "code",
   "execution_count": null,
   "metadata": {},
   "outputs": [],
   "source": [
    "df['pop_pred'] = y_pred_pr"
   ]
  },
  {
   "cell_type": "code",
   "execution_count": null,
   "metadata": {},
   "outputs": [],
   "source": [
    "f, ax = plt.subplots(figsize=(10,10))\n",
    "prediction_error(y_true,y_pred_pr,ax=ax,df=df,images=True,tiles_path=tiles_path) # plot\n",
    "ax.set_title(\"Poisson\")\n",
    "f.tight_layout()\n",
    "f.savefig('image_error_plot_large.png',dpi=1000)"
   ]
  },
  {
   "cell_type": "code",
   "execution_count": null,
   "metadata": {},
   "outputs": [],
   "source": [
    "f, ax = plt.subplots(figsize=(10,10))\n",
    "prediction_error(y_true,y_pred_pr,ax=ax,df=df,images=True,buildings=True,tiles_path=tiles_path) # plot\n",
    "ax.set_title(\"Poisson\")\n",
    "f.tight_layout()\n",
    "f.savefig('building_error_plot_large.png',dpi=1000)"
   ]
  },
  {
   "cell_type": "code",
   "execution_count": null,
   "metadata": {},
   "outputs": [],
   "source": []
  }
 ],
 "metadata": {
  "kernelspec": {
   "display_name": "base",
   "language": "python",
   "name": "base"
  },
  "language_info": {
   "codemirror_mode": {
    "name": "ipython",
    "version": 3
   },
   "file_extension": ".py",
   "mimetype": "text/x-python",
   "name": "python",
   "nbconvert_exporter": "python",
   "pygments_lexer": "ipython3",
   "version": "3.7.3"
  }
 },
 "nbformat": 4,
 "nbformat_minor": 4
}
